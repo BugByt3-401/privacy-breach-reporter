{
  "nbformat": 4,
  "nbformat_minor": 0,
  "metadata": {
    "colab": {
      "provenance": [],
      "collapsed_sections": [],
      "toc_visible": true,
      "authorship_tag": "ABX9TyPmWAmQWuWaTYB/1L8pgaZN",
      "include_colab_link": true
    },
    "kernelspec": {
      "name": "python3",
      "display_name": "Python 3"
    },
    "language_info": {
      "name": "python"
    }
  },
  "cells": [
    {
      "cell_type": "markdown",
      "metadata": {
        "id": "view-in-github",
        "colab_type": "text"
      },
      "source": [
        "<a href=\"https://colab.research.google.com/github/BugByt3-401/privacy-breach-reporter/blob/main/privacy_breach_reports.ipynb\" target=\"_parent\"><img src=\"https://colab.research.google.com/assets/colab-badge.svg\" alt=\"Open In Colab\"/></a>"
      ]
    },
    {
      "cell_type": "markdown",
      "source": [
        "Retrieving CSV Data from GitHub Repo and Unzipping"
      ],
      "metadata": {
        "id": "hByoWL6Qy8qJ"
      }
    },
    {
      "cell_type": "code",
      "execution_count": 3,
      "metadata": {
        "id": "VWt_8I0cwDuT",
        "colab": {
          "base_uri": "https://localhost:8080/"
        },
        "outputId": "6903a418-0997-451e-9f9e-b10f7496d413"
      },
      "outputs": [
        {
          "output_type": "stream",
          "name": "stdout",
          "text": [
            "--2022-11-08 23:46:10--  https://github.com/vz-risk/VCDB/raw/master/data/csv/vcdb.csv.zip\n",
            "Resolving github.com (github.com)... 140.82.112.4\n",
            "Connecting to github.com (github.com)|140.82.112.4|:443... connected.\n",
            "HTTP request sent, awaiting response... 302 Found\n",
            "Location: https://raw.githubusercontent.com/vz-risk/VCDB/master/data/csv/vcdb.csv.zip [following]\n",
            "--2022-11-08 23:46:10--  https://raw.githubusercontent.com/vz-risk/VCDB/master/data/csv/vcdb.csv.zip\n",
            "Resolving raw.githubusercontent.com (raw.githubusercontent.com)... 185.199.108.133, 185.199.109.133, 185.199.110.133, ...\n",
            "Connecting to raw.githubusercontent.com (raw.githubusercontent.com)|185.199.108.133|:443... connected.\n",
            "HTTP request sent, awaiting response... 200 OK\n",
            "Length: 11975302 (11M) [application/zip]\n",
            "Saving to: ‘vcdb.csv.zip’\n",
            "\n",
            "vcdb.csv.zip        100%[===================>]  11.42M  --.-KB/s    in 0.07s   \n",
            "\n",
            "2022-11-08 23:46:11 (152 MB/s) - ‘vcdb.csv.zip’ saved [11975302/11975302]\n",
            "\n",
            "Archive:  /content/vcdb.csv.zip\n",
            "  inflating: vcdb.csv                \n",
            "  inflating: data/dbir/VCDB/data/csv/vcdb.csv  \n"
          ]
        }
      ],
      "source": [
        "# !wget https://github.com/vz-risk/VCDB/archive/refs/heads/master.zip # Download entire Github repo\n",
        "!wget https://github.com/vz-risk/VCDB/raw/master/data/csv/vcdb.csv.zip # Download only the csv zip\n",
        "\n",
        "!unzip /content/vcdb.csv.zip"
      ]
    },
    {
      "cell_type": "code",
      "source": [
        "import pandas as pd\n",
        "from collections import Counter\n",
        "import numpy as np"
      ],
      "metadata": {
        "id": "6JJDrHq62-5i"
      },
      "execution_count": 4,
      "outputs": []
    },
    {
      "cell_type": "code",
      "source": [
        "df = pd.read_csv('/content/data/dbir/VCDB/data/csv/vcdb.csv', low_memory=False)\n",
        "\n",
        "count_row = df.shape[0]\n",
        "count_col = df.shape[1] \n",
        "print('rows: ', count_row)\n",
        "print ('columns: ', count_col)"
      ],
      "metadata": {
        "colab": {
          "base_uri": "https://localhost:8080/"
        },
        "id": "PADjql9Q3A0L",
        "outputId": "1a2de221-af30-4906-d8f2-7a83bdbb212c"
      },
      "execution_count": 5,
      "outputs": [
        {
          "output_type": "stream",
          "name": "stdout",
          "text": [
            "rows:  9349\n",
            "columns:  2550\n"
          ]
        }
      ]
    },
    {
      "cell_type": "code",
      "source": [
        "df.head()"
      ],
      "metadata": {
        "colab": {
          "base_uri": "https://localhost:8080/",
          "height": 249
        },
        "id": "-jL8gSBfCrkw",
        "outputId": "83dacb22-a59e-4dab-cb23-454937880a4c"
      },
      "execution_count": 7,
      "outputs": [
        {
          "output_type": "execute_result",
          "data": {
            "text/plain": [
              "  action.environmental.notes  action.environmental.variety.Deterioration  \\\n",
              "0                        NaN                                       False   \n",
              "1                        NaN                                       False   \n",
              "2                        NaN                                       False   \n",
              "3                        NaN                                       False   \n",
              "4                        NaN                                       False   \n",
              "\n",
              "   action.environmental.variety.Earthquake  action.environmental.variety.EMI  \\\n",
              "0                                    False                             False   \n",
              "1                                    False                             False   \n",
              "2                                    False                             False   \n",
              "3                                    False                             False   \n",
              "4                                    False                             False   \n",
              "\n",
              "   action.environmental.variety.ESD  action.environmental.variety.Fire  \\\n",
              "0                             False                              False   \n",
              "1                             False                              False   \n",
              "2                             False                              False   \n",
              "3                             False                              False   \n",
              "4                             False                              False   \n",
              "\n",
              "   action.environmental.variety.Flood  action.environmental.variety.Hazmat  \\\n",
              "0                               False                                False   \n",
              "1                               False                                False   \n",
              "2                               False                                False   \n",
              "3                               False                                False   \n",
              "4                               False                                False   \n",
              "\n",
              "   action.environmental.variety.Humidity  \\\n",
              "0                                  False   \n",
              "1                                  False   \n",
              "2                                  False   \n",
              "3                                  False   \n",
              "4                                  False   \n",
              "\n",
              "   action.environmental.variety.Hurricane  ...  \\\n",
              "0                                   False  ...   \n",
              "1                                   False  ...   \n",
              "2                                   False  ...   \n",
              "3                                   False  ...   \n",
              "4                                   False  ...   \n",
              "\n",
              "   pattern.Basic Web Application Attacks  pattern.Social Engineering  \\\n",
              "0                                  False                       False   \n",
              "1                                  False                       False   \n",
              "2                                  False                       False   \n",
              "3                                  False                       False   \n",
              "4                                   True                       False   \n",
              "\n",
              "   pattern.System Intrusion  pattern.Denial of Service  \\\n",
              "0                     False                      False   \n",
              "1                     False                      False   \n",
              "2                     False                      False   \n",
              "3                     False                      False   \n",
              "4                     False                      False   \n",
              "\n",
              "   pattern.Everything Else  actor.Multiple     Actor  victim.industry2.31_33  \\\n",
              "0                    False           False  Internal                   False   \n",
              "1                    False           False  Internal                   False   \n",
              "2                    False           False  External                   False   \n",
              "3                    False           False   Partner                   False   \n",
              "4                    False           False  External                   False   \n",
              "\n",
              "   victim.industry2.44_45  victim.industry2.48_49  \n",
              "0                   False                   False  \n",
              "1                   False                   False  \n",
              "2                   False                   False  \n",
              "3                   False                   False  \n",
              "4                   False                   False  \n",
              "\n",
              "[5 rows x 2550 columns]"
            ],
            "text/html": [
              "\n",
              "  <div id=\"df-1d47b151-b000-4d57-88cf-a209063abc1a\">\n",
              "    <div class=\"colab-df-container\">\n",
              "      <div>\n",
              "<style scoped>\n",
              "    .dataframe tbody tr th:only-of-type {\n",
              "        vertical-align: middle;\n",
              "    }\n",
              "\n",
              "    .dataframe tbody tr th {\n",
              "        vertical-align: top;\n",
              "    }\n",
              "\n",
              "    .dataframe thead th {\n",
              "        text-align: right;\n",
              "    }\n",
              "</style>\n",
              "<table border=\"1\" class=\"dataframe\">\n",
              "  <thead>\n",
              "    <tr style=\"text-align: right;\">\n",
              "      <th></th>\n",
              "      <th>action.environmental.notes</th>\n",
              "      <th>action.environmental.variety.Deterioration</th>\n",
              "      <th>action.environmental.variety.Earthquake</th>\n",
              "      <th>action.environmental.variety.EMI</th>\n",
              "      <th>action.environmental.variety.ESD</th>\n",
              "      <th>action.environmental.variety.Fire</th>\n",
              "      <th>action.environmental.variety.Flood</th>\n",
              "      <th>action.environmental.variety.Hazmat</th>\n",
              "      <th>action.environmental.variety.Humidity</th>\n",
              "      <th>action.environmental.variety.Hurricane</th>\n",
              "      <th>...</th>\n",
              "      <th>pattern.Basic Web Application Attacks</th>\n",
              "      <th>pattern.Social Engineering</th>\n",
              "      <th>pattern.System Intrusion</th>\n",
              "      <th>pattern.Denial of Service</th>\n",
              "      <th>pattern.Everything Else</th>\n",
              "      <th>actor.Multiple</th>\n",
              "      <th>Actor</th>\n",
              "      <th>victim.industry2.31_33</th>\n",
              "      <th>victim.industry2.44_45</th>\n",
              "      <th>victim.industry2.48_49</th>\n",
              "    </tr>\n",
              "  </thead>\n",
              "  <tbody>\n",
              "    <tr>\n",
              "      <th>0</th>\n",
              "      <td>NaN</td>\n",
              "      <td>False</td>\n",
              "      <td>False</td>\n",
              "      <td>False</td>\n",
              "      <td>False</td>\n",
              "      <td>False</td>\n",
              "      <td>False</td>\n",
              "      <td>False</td>\n",
              "      <td>False</td>\n",
              "      <td>False</td>\n",
              "      <td>...</td>\n",
              "      <td>False</td>\n",
              "      <td>False</td>\n",
              "      <td>False</td>\n",
              "      <td>False</td>\n",
              "      <td>False</td>\n",
              "      <td>False</td>\n",
              "      <td>Internal</td>\n",
              "      <td>False</td>\n",
              "      <td>False</td>\n",
              "      <td>False</td>\n",
              "    </tr>\n",
              "    <tr>\n",
              "      <th>1</th>\n",
              "      <td>NaN</td>\n",
              "      <td>False</td>\n",
              "      <td>False</td>\n",
              "      <td>False</td>\n",
              "      <td>False</td>\n",
              "      <td>False</td>\n",
              "      <td>False</td>\n",
              "      <td>False</td>\n",
              "      <td>False</td>\n",
              "      <td>False</td>\n",
              "      <td>...</td>\n",
              "      <td>False</td>\n",
              "      <td>False</td>\n",
              "      <td>False</td>\n",
              "      <td>False</td>\n",
              "      <td>False</td>\n",
              "      <td>False</td>\n",
              "      <td>Internal</td>\n",
              "      <td>False</td>\n",
              "      <td>False</td>\n",
              "      <td>False</td>\n",
              "    </tr>\n",
              "    <tr>\n",
              "      <th>2</th>\n",
              "      <td>NaN</td>\n",
              "      <td>False</td>\n",
              "      <td>False</td>\n",
              "      <td>False</td>\n",
              "      <td>False</td>\n",
              "      <td>False</td>\n",
              "      <td>False</td>\n",
              "      <td>False</td>\n",
              "      <td>False</td>\n",
              "      <td>False</td>\n",
              "      <td>...</td>\n",
              "      <td>False</td>\n",
              "      <td>False</td>\n",
              "      <td>False</td>\n",
              "      <td>False</td>\n",
              "      <td>False</td>\n",
              "      <td>False</td>\n",
              "      <td>External</td>\n",
              "      <td>False</td>\n",
              "      <td>False</td>\n",
              "      <td>False</td>\n",
              "    </tr>\n",
              "    <tr>\n",
              "      <th>3</th>\n",
              "      <td>NaN</td>\n",
              "      <td>False</td>\n",
              "      <td>False</td>\n",
              "      <td>False</td>\n",
              "      <td>False</td>\n",
              "      <td>False</td>\n",
              "      <td>False</td>\n",
              "      <td>False</td>\n",
              "      <td>False</td>\n",
              "      <td>False</td>\n",
              "      <td>...</td>\n",
              "      <td>False</td>\n",
              "      <td>False</td>\n",
              "      <td>False</td>\n",
              "      <td>False</td>\n",
              "      <td>False</td>\n",
              "      <td>False</td>\n",
              "      <td>Partner</td>\n",
              "      <td>False</td>\n",
              "      <td>False</td>\n",
              "      <td>False</td>\n",
              "    </tr>\n",
              "    <tr>\n",
              "      <th>4</th>\n",
              "      <td>NaN</td>\n",
              "      <td>False</td>\n",
              "      <td>False</td>\n",
              "      <td>False</td>\n",
              "      <td>False</td>\n",
              "      <td>False</td>\n",
              "      <td>False</td>\n",
              "      <td>False</td>\n",
              "      <td>False</td>\n",
              "      <td>False</td>\n",
              "      <td>...</td>\n",
              "      <td>True</td>\n",
              "      <td>False</td>\n",
              "      <td>False</td>\n",
              "      <td>False</td>\n",
              "      <td>False</td>\n",
              "      <td>False</td>\n",
              "      <td>External</td>\n",
              "      <td>False</td>\n",
              "      <td>False</td>\n",
              "      <td>False</td>\n",
              "    </tr>\n",
              "  </tbody>\n",
              "</table>\n",
              "<p>5 rows × 2550 columns</p>\n",
              "</div>\n",
              "      <button class=\"colab-df-convert\" onclick=\"convertToInteractive('df-1d47b151-b000-4d57-88cf-a209063abc1a')\"\n",
              "              title=\"Convert this dataframe to an interactive table.\"\n",
              "              style=\"display:none;\">\n",
              "        \n",
              "  <svg xmlns=\"http://www.w3.org/2000/svg\" height=\"24px\"viewBox=\"0 0 24 24\"\n",
              "       width=\"24px\">\n",
              "    <path d=\"M0 0h24v24H0V0z\" fill=\"none\"/>\n",
              "    <path d=\"M18.56 5.44l.94 2.06.94-2.06 2.06-.94-2.06-.94-.94-2.06-.94 2.06-2.06.94zm-11 1L8.5 8.5l.94-2.06 2.06-.94-2.06-.94L8.5 2.5l-.94 2.06-2.06.94zm10 10l.94 2.06.94-2.06 2.06-.94-2.06-.94-.94-2.06-.94 2.06-2.06.94z\"/><path d=\"M17.41 7.96l-1.37-1.37c-.4-.4-.92-.59-1.43-.59-.52 0-1.04.2-1.43.59L10.3 9.45l-7.72 7.72c-.78.78-.78 2.05 0 2.83L4 21.41c.39.39.9.59 1.41.59.51 0 1.02-.2 1.41-.59l7.78-7.78 2.81-2.81c.8-.78.8-2.07 0-2.86zM5.41 20L4 18.59l7.72-7.72 1.47 1.35L5.41 20z\"/>\n",
              "  </svg>\n",
              "      </button>\n",
              "      \n",
              "  <style>\n",
              "    .colab-df-container {\n",
              "      display:flex;\n",
              "      flex-wrap:wrap;\n",
              "      gap: 12px;\n",
              "    }\n",
              "\n",
              "    .colab-df-convert {\n",
              "      background-color: #E8F0FE;\n",
              "      border: none;\n",
              "      border-radius: 50%;\n",
              "      cursor: pointer;\n",
              "      display: none;\n",
              "      fill: #1967D2;\n",
              "      height: 32px;\n",
              "      padding: 0 0 0 0;\n",
              "      width: 32px;\n",
              "    }\n",
              "\n",
              "    .colab-df-convert:hover {\n",
              "      background-color: #E2EBFA;\n",
              "      box-shadow: 0px 1px 2px rgba(60, 64, 67, 0.3), 0px 1px 3px 1px rgba(60, 64, 67, 0.15);\n",
              "      fill: #174EA6;\n",
              "    }\n",
              "\n",
              "    [theme=dark] .colab-df-convert {\n",
              "      background-color: #3B4455;\n",
              "      fill: #D2E3FC;\n",
              "    }\n",
              "\n",
              "    [theme=dark] .colab-df-convert:hover {\n",
              "      background-color: #434B5C;\n",
              "      box-shadow: 0px 1px 3px 1px rgba(0, 0, 0, 0.15);\n",
              "      filter: drop-shadow(0px 1px 2px rgba(0, 0, 0, 0.3));\n",
              "      fill: #FFFFFF;\n",
              "    }\n",
              "  </style>\n",
              "\n",
              "      <script>\n",
              "        const buttonEl =\n",
              "          document.querySelector('#df-1d47b151-b000-4d57-88cf-a209063abc1a button.colab-df-convert');\n",
              "        buttonEl.style.display =\n",
              "          google.colab.kernel.accessAllowed ? 'block' : 'none';\n",
              "\n",
              "        async function convertToInteractive(key) {\n",
              "          const element = document.querySelector('#df-1d47b151-b000-4d57-88cf-a209063abc1a');\n",
              "          const dataTable =\n",
              "            await google.colab.kernel.invokeFunction('convertToInteractive',\n",
              "                                                     [key], {});\n",
              "          if (!dataTable) return;\n",
              "\n",
              "          const docLinkHtml = 'Like what you see? Visit the ' +\n",
              "            '<a target=\"_blank\" href=https://colab.research.google.com/notebooks/data_table.ipynb>data table notebook</a>'\n",
              "            + ' to learn more about interactive tables.';\n",
              "          element.innerHTML = '';\n",
              "          dataTable['output_type'] = 'display_data';\n",
              "          await google.colab.output.renderOutput(dataTable, element);\n",
              "          const docLink = document.createElement('div');\n",
              "          docLink.innerHTML = docLinkHtml;\n",
              "          element.appendChild(docLink);\n",
              "        }\n",
              "      </script>\n",
              "    </div>\n",
              "  </div>\n",
              "  "
            ]
          },
          "metadata": {},
          "execution_count": 7
        },
        {
          "output_type": "stream",
          "name": "stdout",
          "text": [
            "Warning: Total number of columns (2550) exceeds max_columns (20) limiting to first (20) columns.\n"
          ]
        }
      ]
    },
    {
      "cell_type": "markdown",
      "source": [
        "PrivacyBreach.org \"Type of Business\" Values\n",
        "\n",
        "\n",
        "*   BSF - Businesses (Financial and Insurance Services)\n",
        "\n",
        "*   BSO - Businesses (Other)\n",
        "\n",
        "*   BSR - Businesses (Retail/Merchant including Online Retail)\n",
        "\n",
        "*   EDU - Educational Institutions\n",
        "\n",
        "*   GOV - Government & Military\n",
        "\n",
        "*   MED - Healthcare, Medical Providers and Medical Insurance Services\n",
        "\n",
        "*   NGO - Nonprofits\n",
        "\n",
        "*   UNKN - Unknown\n",
        "\n"
      ],
      "metadata": {
        "id": "GQJSp4owp0EZ"
      }
    },
    {
      "cell_type": "code",
      "source": [
        "# get all unique values for the victim.industry.name column\n",
        "df[\"victim.industry.name\"].unique()"
      ],
      "metadata": {
        "colab": {
          "base_uri": "https://localhost:8080/"
        },
        "id": "8oV-dbfpo32D",
        "outputId": "abdd6b9f-f180-4647-883c-801b7d49e2ff"
      },
      "execution_count": 8,
      "outputs": [
        {
          "output_type": "execute_result",
          "data": {
            "text/plain": [
              "array(['Public ', 'Professional ', 'Healthcare ', 'Information ',\n",
              "       'Utilities ', 'Other Services ', 'Finance ', 'Educational ',\n",
              "       'Retail ', 'Manufacturing ', 'Accomodation ', 'Transportation ',\n",
              "       'Construction ', 'Administrative ', 'Unknown', 'Trade ',\n",
              "       'Entertainment ', 'Real Estate ', 'Management ', 'Mining ',\n",
              "       'Agriculture '], dtype=object)"
            ]
          },
          "metadata": {},
          "execution_count": 8
        }
      ]
    },
    {
      "cell_type": "markdown",
      "source": [
        "Mapping PrivacyBreach.org Business types to these unique values: \n",
        "*   BSF - Businesses (Financial and Insurance Services)\n",
        "  -   Finance\n",
        "*   BSO - Businesses (Other)\n",
        "  - Entertainment\n",
        "  - Agriculture\n",
        "  - Transportation\n",
        "  - Other Services\n",
        "  - Administrative\n",
        "  - Utilities\n",
        "  - Construction\n",
        "  - Real Estate\n",
        "  - Mining\n",
        "  - Management\n",
        "  - Other Services\n",
        "  - Accomodation (Spelt as Accommodation in NAICS and Accomodation in VCDB)\n",
        "  - Utilities\n",
        "  - Manufacturing\n",
        "  - Professional\n",
        "  - Information\n",
        "*   BSR - Businesses (Retail/Merchant including Online Retail)\n",
        "  -   Retail\n",
        "  - Trade\n",
        "*   EDU - Educational Institutions\n",
        "  -   Educational\n",
        "*   GOV - Government & Military\n",
        "  -   Public\n",
        "*   MED - Healthcare, Medical Providers and Medical Insurance Services\n",
        "  -   Healthcare\n",
        "*   NGO - Nonprofits\n",
        "  -   \n",
        "*   UNKN - Unknown\n",
        "  -   Unknown\n",
        "\n",
        " Information, accoridng to the NAICS list, is the sector that contrains Data Processing, Hosting, and Related Services, which makes it useful to note for various aspects of this research. It also includes media and publishing industries, as well as telecommunication carriers, so it alone cannot classify a data broker in the VCDB\n",
        "     \n"
      ],
      "metadata": {
        "id": "FwYmIG5jqVEO"
      }
    },
    {
      "cell_type": "markdown",
      "source": [
        "PrivacyBreach.org \"Type of Breach\" Values\n",
        "\n",
        "The classfying here does not have as good of a 1:1 mapping as the Type of Business does with the VCDB. Instead, identifying a few key values from the enumerations of the VCDB that correspond to each type, and then creating dummy variables for classification that is 1 only when all of those key values are true would likely be the best option (http://veriscommunity.net/enums.html). An example would be, for DISC, requiring discovery_method.external.variety.Actor disclosure to be true and attribute.confidentialtity.data_disclosure.Potentially or attribute.confidentialtity.data_disclosure.Yes to be true. \n",
        "\n",
        "*   CARD - Fraud Involving Debit and Credit Cards Not Via Hacking (skimming devices at point-of-service terminals, etc.)\n",
        "\n",
        "*   HACK - Hacked by an Outside Party or Infected by Malware\n",
        "\n",
        "*   INSD - Insider (employee, contractor or customer)\n",
        "\n",
        "*   PHYS - Physical (paper documents that are lost, discarded or stolen)\n",
        "\n",
        "*   PORT - Portable Device (lost, discarded or stolen laptop, PDA, smartphone, memory stick, CDs, hard drive, data tape, etc.)\n",
        "\n",
        "*   STAT - Stationary Computer Loss (lost, inappropriately accessed, discarded or stolen computer or server not designed for mobility)\n",
        "\n",
        "*   DISC - Unintended Disclosure Not Involving Hacking, Intentional Breach or Physical Loss (sensitive information posted publicly, mishandled or sent to the wrong party via publishing online, sending in an email, sending in a mailing or sending via fax) \n",
        "\n",
        "*   UNKN - Unknown (not enough information about breach to know how exactly the information was exposed)"
      ],
      "metadata": {
        "id": "sGeZTf7Wva3b"
      }
    },
    {
      "cell_type": "markdown",
      "source": [
        "# Mobile App Determination Testing\n"
      ],
      "metadata": {
        "id": "YIvdc0WgUtMA"
      }
    },
    {
      "cell_type": "markdown",
      "source": [
        "For more mobile centered analysis, these are a few different attempts to obtain just mobile app related data, as there are many different labels in the VCDB, but not all are clear and consistent across the entire database"
      ],
      "metadata": {
        "id": "hhF-uAEbLXZG"
      }
    },
    {
      "cell_type": "code",
      "source": [
        "\n",
        "# See just rows where asset os is known as specified as a mobile os or mobile phone asset \n",
        "# Only returns 3 rows where asset_os was actually specifed # mobile_df = df.loc[(df['plus.asset_os.Android'])|(df['plus.asset_os.Apple iOS'])|(df['plus.asset_os.BlackBerry OS'])|(df['plus.asset_os.Windows Phone'])]\n",
        "mobile_df = df.loc[(df['plus.asset_os.Android'])|(df['plus.asset_os.Apple iOS'])|(df['plus.asset_os.BlackBerry OS'])|(df['plus.asset_os.Windows Phone'])|(df[\"asset.assets.variety.U - Mobile phone\"])]\n",
        "mobile_df.loc[:,[\"summary\",\"notes\",\"asset.assets.variety.U - Mobile phone\"]]\n"
      ],
      "metadata": {
        "colab": {
          "base_uri": "https://localhost:8080/",
          "height": 252
        },
        "id": "W0wOZi7f7hkQ",
        "outputId": "40b4d3ac-5693-49f0-cbc8-46257aa7c64a"
      },
      "execution_count": 1,
      "outputs": [
        {
          "output_type": "error",
          "ename": "NameError",
          "evalue": "ignored",
          "traceback": [
            "\u001b[0;31m---------------------------------------------------------------------------\u001b[0m",
            "\u001b[0;31mNameError\u001b[0m                                 Traceback (most recent call last)",
            "\u001b[0;32m<ipython-input-1-34240b1c3b5f>\u001b[0m in \u001b[0;36m<module>\u001b[0;34m\u001b[0m\n\u001b[1;32m      1\u001b[0m \u001b[0;31m# See just rows where asset os is known as specified as a mobile os or mobile phone asset\u001b[0m\u001b[0;34m\u001b[0m\u001b[0;34m\u001b[0m\u001b[0;34m\u001b[0m\u001b[0m\n\u001b[1;32m      2\u001b[0m \u001b[0;31m# Only returns 3 rows where asset_os was actually specifed # mobile_df = df.loc[(df['plus.asset_os.Android'])|(df['plus.asset_os.Apple iOS'])|(df['plus.asset_os.BlackBerry OS'])|(df['plus.asset_os.Windows Phone'])]\u001b[0m\u001b[0;34m\u001b[0m\u001b[0;34m\u001b[0m\u001b[0;34m\u001b[0m\u001b[0m\n\u001b[0;32m----> 3\u001b[0;31m \u001b[0mmobile_df\u001b[0m \u001b[0;34m=\u001b[0m \u001b[0mdf\u001b[0m\u001b[0;34m.\u001b[0m\u001b[0mloc\u001b[0m\u001b[0;34m[\u001b[0m\u001b[0;34m(\u001b[0m\u001b[0mdf\u001b[0m\u001b[0;34m[\u001b[0m\u001b[0;34m'plus.asset_os.Android'\u001b[0m\u001b[0;34m]\u001b[0m\u001b[0;34m)\u001b[0m\u001b[0;34m|\u001b[0m\u001b[0;34m(\u001b[0m\u001b[0mdf\u001b[0m\u001b[0;34m[\u001b[0m\u001b[0;34m'plus.asset_os.Apple iOS'\u001b[0m\u001b[0;34m]\u001b[0m\u001b[0;34m)\u001b[0m\u001b[0;34m|\u001b[0m\u001b[0;34m(\u001b[0m\u001b[0mdf\u001b[0m\u001b[0;34m[\u001b[0m\u001b[0;34m'plus.asset_os.BlackBerry OS'\u001b[0m\u001b[0;34m]\u001b[0m\u001b[0;34m)\u001b[0m\u001b[0;34m|\u001b[0m\u001b[0;34m(\u001b[0m\u001b[0mdf\u001b[0m\u001b[0;34m[\u001b[0m\u001b[0;34m'plus.asset_os.Windows Phone'\u001b[0m\u001b[0;34m]\u001b[0m\u001b[0;34m)\u001b[0m\u001b[0;34m|\u001b[0m\u001b[0;34m(\u001b[0m\u001b[0mdf\u001b[0m\u001b[0;34m[\u001b[0m\u001b[0;34m\"asset.assets.variety.U - Mobile phone\"\u001b[0m\u001b[0;34m]\u001b[0m\u001b[0;34m)\u001b[0m\u001b[0;34m]\u001b[0m\u001b[0;34m\u001b[0m\u001b[0;34m\u001b[0m\u001b[0m\n\u001b[0m\u001b[1;32m      4\u001b[0m \u001b[0mmobile_df\u001b[0m\u001b[0;34m.\u001b[0m\u001b[0mloc\u001b[0m\u001b[0;34m[\u001b[0m\u001b[0;34m:\u001b[0m\u001b[0;34m,\u001b[0m\u001b[0;34m[\u001b[0m\u001b[0;34m\"summary\"\u001b[0m\u001b[0;34m,\u001b[0m\u001b[0;34m\"notes\"\u001b[0m\u001b[0;34m,\u001b[0m\u001b[0;34m\"asset.assets.variety.U - Mobile phone\"\u001b[0m\u001b[0;34m]\u001b[0m\u001b[0;34m]\u001b[0m\u001b[0;34m\u001b[0m\u001b[0;34m\u001b[0m\u001b[0m\n",
            "\u001b[0;31mNameError\u001b[0m: name 'df' is not defined"
          ]
        }
      ]
    },
    {
      "cell_type": "code",
      "source": [
        "# See just rows where the vector is listed as a phone\n",
        "mobile_df1 = df.loc[df['action.social.vector.Phone']]\n",
        "mobile_df1.loc[:,[\"action.social.vector.Phone\",\"summary\",\"notes\",\"asset.assets.variety.U - Mobile phone\"]]\n",
        "\n",
        "\n",
        "# Determined to be more of where a phone was used and less involved in mobile applications"
      ],
      "metadata": {
        "colab": {
          "base_uri": "https://localhost:8080/",
          "height": 235
        },
        "id": "VukDcRcdMCCT",
        "outputId": "0759bd89-411a-47b4-a39c-86e36b00d6e5"
      },
      "execution_count": 2,
      "outputs": [
        {
          "output_type": "error",
          "ename": "NameError",
          "evalue": "ignored",
          "traceback": [
            "\u001b[0;31m---------------------------------------------------------------------------\u001b[0m",
            "\u001b[0;31mNameError\u001b[0m                                 Traceback (most recent call last)",
            "\u001b[0;32m<ipython-input-2-01febe74f922>\u001b[0m in \u001b[0;36m<module>\u001b[0;34m\u001b[0m\n\u001b[1;32m      1\u001b[0m \u001b[0;31m# See just rows where the vector is listed as a phone\u001b[0m\u001b[0;34m\u001b[0m\u001b[0;34m\u001b[0m\u001b[0;34m\u001b[0m\u001b[0m\n\u001b[0;32m----> 2\u001b[0;31m \u001b[0mmobile_df1\u001b[0m \u001b[0;34m=\u001b[0m \u001b[0mdf\u001b[0m\u001b[0;34m.\u001b[0m\u001b[0mloc\u001b[0m\u001b[0;34m[\u001b[0m\u001b[0mdf\u001b[0m\u001b[0;34m[\u001b[0m\u001b[0;34m'action.social.vector.Phone'\u001b[0m\u001b[0;34m]\u001b[0m\u001b[0;34m]\u001b[0m\u001b[0;34m\u001b[0m\u001b[0;34m\u001b[0m\u001b[0m\n\u001b[0m\u001b[1;32m      3\u001b[0m \u001b[0mmobile_df1\u001b[0m\u001b[0;34m.\u001b[0m\u001b[0mloc\u001b[0m\u001b[0;34m[\u001b[0m\u001b[0;34m:\u001b[0m\u001b[0;34m,\u001b[0m\u001b[0;34m[\u001b[0m\u001b[0;34m\"action.social.vector.Phone\"\u001b[0m\u001b[0;34m,\u001b[0m\u001b[0;34m\"summary\"\u001b[0m\u001b[0;34m,\u001b[0m\u001b[0;34m\"notes\"\u001b[0m\u001b[0;34m,\u001b[0m\u001b[0;34m\"asset.assets.variety.U - Mobile phone\"\u001b[0m\u001b[0;34m]\u001b[0m\u001b[0;34m]\u001b[0m\u001b[0;34m\u001b[0m\u001b[0;34m\u001b[0m\u001b[0m\n\u001b[1;32m      4\u001b[0m \u001b[0;34m\u001b[0m\u001b[0m\n\u001b[1;32m      5\u001b[0m \u001b[0;34m\u001b[0m\u001b[0m\n",
            "\u001b[0;31mNameError\u001b[0m: name 'df' is not defined"
          ]
        }
      ]
    },
    {
      "cell_type": "code",
      "source": [
        "# See just application mentioning mobile (but not automobiles) in their notes or summaries\n",
        "mobile_df2 = df[(df['summary'].str.contains('mobile')==True)|(df['notes'].str.contains('mobile')==True)|(df['action.hacking.notes'].str.contains('mobile')==True)]\n",
        "mobile_df2 = mobile_df2[(mobile_df2['summary'].str.contains('automobile')==False)|(mobile_df2['notes'].str.contains('automobile')==False)|(mobile_df2['action.hacking.notes'].str.contains('automobile')==False)]\n",
        "mobile_df2.loc[:,[\"summary\",\"notes\",\"action.hacking.notes\"]]"
      ],
      "metadata": {
        "id": "rH_8-oj7MFZj"
      },
      "execution_count": null,
      "outputs": []
    },
    {
      "cell_type": "markdown",
      "source": [
        "# ML and Pyspark Prep\n"
      ],
      "metadata": {
        "id": "Nq2_CPbVU3yV"
      }
    },
    {
      "cell_type": "code",
      "source": [
        "!pip install sparkmagic\n",
        "!pip install pyspark"
      ],
      "metadata": {
        "id": "o_YG0O2OU9SH"
      },
      "execution_count": null,
      "outputs": []
    },
    {
      "cell_type": "code",
      "source": [
        "from pyspark.sql.types import *\n",
        "from pyspark.sql.functions import *\n",
        "from pyspark.sql import SparkSession\n",
        "\n",
        "from pyspark.ml import Pipeline\n",
        "#from pyspark.ml.classification import DecisionTreeClassifier\n",
        "from pyspark.ml.feature import VectorAssembler, StringIndexer, VectorIndexer, MinMaxScaler\n",
        "from pyspark.ml.classification import LogisticRegression\n",
        "from pyspark.ml.tuning import ParamGridBuilder, CrossValidator\n",
        "from pyspark.ml.evaluation import BinaryClassificationEvaluator\n",
        "\n",
        "spark = SparkSession.builder.master(\"local[*]\").getOrCreate()"
      ],
      "metadata": {
        "id": "eEhhm4F1VAg9"
      },
      "execution_count": null,
      "outputs": []
    },
    {
      "cell_type": "code",
      "source": [
        "# Useful methods for data processing and preparation \n",
        "# mobile_df.replace({\"TRUE\": 1, \"FALSE\": 0}, inplace=True) # convert exisiting columns into one-hot columns as 1/0 instead of TRUE/FALSE for proper processing\n",
        "# mobile_df.columnname.replace({\"TRUE\": 1, \"FALSE\": 0}, inplace=True) # does the same thing for for single column, here named columnname\n"
      ],
      "metadata": {
        "id": "lja0Yvrbb4ps"
      },
      "execution_count": null,
      "outputs": []
    },
    {
      "cell_type": "markdown",
      "source": [
        "Next Steps:\n",
        "\n",
        "\n",
        "*   Get dataframe into desired format with the columns of intrest and one-hot encoding for desired Dummy Variable columns mapping to PrivacyRights.Org classifications\n",
        "*   Export that dataframe into a csv so spark can be applied without having to rerun pandas mehtods previously done. Makes execution time shorter\n",
        "*   Have spark read in that csv\n",
        "*   Split up the dataset into percent for training (80%) and percent for testing (20%)\n",
        "*   Create and fit gradient boosting model from trainging data\n",
        "* Run model on testing data\n",
        "*   Create a classification report with pyspark to check the accuracy\n",
        "\n"
      ],
      "metadata": {
        "id": "4RkkKVXAeGc0"
      }
    }
  ]
}